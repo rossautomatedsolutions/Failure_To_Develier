{
 "cells": [
  {
   "cell_type": "markdown",
   "id": "498b4aa2",
   "metadata": {},
   "source": [
    "# SEC FTD Analysis\n",
    "1) Download all zip files of FTDs\n",
    "2) Extract contents of zip file to csvs\n",
    "3) Read + Combine zip files into dataframe. Apply filters (ie dates, tickers) during this process\n",
    "4) Chart resulting dataframe"
   ]
  },
  {
   "cell_type": "markdown",
   "id": "77ae6735",
   "metadata": {},
   "source": [
    "## Introduction\n",
    "* Definition / Background: https://www.investopedia.com/terms/f/failuretodeliver.asp\n",
    "* SEC data: https://www.sec.gov/data/foiadocsfailsdatahtm"
   ]
  },
  {
   "cell_type": "markdown",
   "id": "5660605e",
   "metadata": {},
   "source": [
    "## Download FTD Data"
   ]
  },
  {
   "cell_type": "code",
   "execution_count": 1,
   "id": "e79b9b33",
   "metadata": {},
   "outputs": [],
   "source": [
    "# Download every FTD Folder\n",
    "\n",
    "import os\n",
    "import requests\n",
    "from urllib.parse import urljoin\n",
    "from bs4 import BeautifulSoup\n",
    "\n",
    "url = \"https://www.sec.gov/data/foiadocsfailsdatahtm\"\n",
    "\n",
    "#If there is no such folder, the script will create one automatically\n",
    "folder_location = r'C:\\FTDs'\n",
    "if not os.path.exists(folder_location):os.mkdir(folder_location)\n",
    "\n",
    "response = requests.get(url)\n",
    "soup= BeautifulSoup(response.text, \"html.parser\")     \n",
    "for link in soup.select(\"a[href$='.zip']\"):\n",
    "# for link in soup.find_all('a'):\n",
    "    #Name the pdf files using the last portion of each link which are unique in this case\n",
    "    filename = os.path.join(folder_location,link['href'].split('/')[-1])\n",
    "#     print (filename)\n",
    "\n",
    "    #check to see if file exists or not before saving\n",
    "    if os.path.isfile(filename):\n",
    "        print (filename + \"already exists\")\n",
    "    else:\n",
    "        with open(filename, 'wb') as f:\n",
    "            f.write(requests.get(urljoin(url,link['href'])).content)"
   ]
  },
  {
   "cell_type": "markdown",
   "id": "feae7db5",
   "metadata": {},
   "source": [
    "## Open Each Zipped Folder & Extract"
   ]
  },
  {
   "cell_type": "code",
   "execution_count": null,
   "id": "371df8a5",
   "metadata": {},
   "outputs": [],
   "source": [
    "import zipfile, os\n",
    "\n",
    "working_directory = folder_location\n",
    "os.chdir(working_directory)\n",
    "\n",
    "for file in os.listdir(working_directory):   # get the list of files\n",
    "    if zipfile.is_zipfile(file): # if it is a zipfile, extract it\n",
    "        with zipfile.ZipFile(file) as item: # treat the file as a zip\n",
    "           item.extractall()  # extract it in the working directory"
   ]
  },
  {
   "cell_type": "markdown",
   "id": "a488308c",
   "metadata": {},
   "source": [
    "## Add Each Extracted File To A Dataframe"
   ]
  },
  {
   "cell_type": "code",
   "execution_count": null,
   "id": "52e3b083",
   "metadata": {},
   "outputs": [],
   "source": [
    "# importing the library\n",
    "import os\n",
    "import pandas as pd"
   ]
  },
  {
   "cell_type": "code",
   "execution_count": null,
   "id": "19d20004",
   "metadata": {},
   "outputs": [],
   "source": [
    "# control parameters for below. Change here as needed\n",
    "\n",
    "startPeriod = 20200101 # YYYYMMDD\n",
    "tickerList = [\"AAPL\"]"
   ]
  },
  {
   "cell_type": "code",
   "execution_count": null,
   "id": "b9c0ec6c",
   "metadata": {
    "scrolled": true
   },
   "outputs": [],
   "source": [
    "\n",
    "\n",
    "# df_final = pd.DataFrame()\n",
    "# giving directory name\n",
    "dirname = folder_location\n",
    "\n",
    "# giving file extension\n",
    "ext = ('.txt')\n",
    "\n",
    "# iterating over all files\n",
    "df_final = pd.DataFrame(columns=['SETTLEMENT DATE','CUSIP','SYMBOL','QUANTITY (FAILS)',\n",
    "                           'DESCRIPTION','PRICE'])\n",
    "for files in os.listdir(dirname):\n",
    "    if files.endswith(ext):\n",
    "#         print(files) # printing file name of desired extension\n",
    "#         print(dirname + \"/\" + files)\n",
    "#         print(files.Path())\n",
    "#         print(dirname+files)\n",
    "#         df = pd.read_csv(dirname + \"/\" + files)\n",
    "#         df.head()\n",
    "\n",
    "        df = pd.read_csv(dirname + \"/\" + files,sep='|', encoding='ISO-8859-1',on_bad_lines='skip')\n",
    "    \n",
    "        \n",
    "        # only run for certain years\n",
    "        sub_df=int(df.iloc[0]['SETTLEMENT DATE'])\n",
    "        if sub_df>=startPeriod: #YYYYMMDD\n",
    "            df = df[df['SYMBOL'].isin(tickerList)] #Filter by ticker symbol\n",
    "    #         print (df)\n",
    "\n",
    "            df_final = pd.concat([df_final, df],join=\"inner\")\n",
    "\n",
    "    else:\n",
    "        continue\n",
    "\n",
    "print (\"Done!\")"
   ]
  },
  {
   "cell_type": "markdown",
   "id": "6cb449ff",
   "metadata": {},
   "source": [
    "### Review The Dataframe"
   ]
  },
  {
   "cell_type": "code",
   "execution_count": null,
   "id": "c2106d73",
   "metadata": {},
   "outputs": [],
   "source": [
    "df_final.tail()"
   ]
  },
  {
   "cell_type": "code",
   "execution_count": null,
   "id": "27e49ecc",
   "metadata": {},
   "outputs": [],
   "source": [
    "df_final.dtypes"
   ]
  },
  {
   "cell_type": "code",
   "execution_count": null,
   "id": "ec348d48",
   "metadata": {},
   "outputs": [],
   "source": [
    "df_final['PRICE'] = pd.to_numeric(df_final['PRICE'])\n",
    "\n",
    "df_final.dtypes"
   ]
  },
  {
   "cell_type": "code",
   "execution_count": null,
   "id": "dfb16d63",
   "metadata": {},
   "outputs": [],
   "source": [
    "df_final.to_csv(\"review_ftd.csv\",index=False)"
   ]
  },
  {
   "cell_type": "markdown",
   "id": "b7dcc200",
   "metadata": {},
   "source": [
    "## Chart"
   ]
  },
  {
   "cell_type": "code",
   "execution_count": null,
   "id": "b98737c6",
   "metadata": {},
   "outputs": [],
   "source": [
    "import matplotlib.pyplot as plt\n",
    "\n",
    "# df = pd.read_csv(\"review_ftd.csv\")\n",
    "df = df_final"
   ]
  },
  {
   "cell_type": "code",
   "execution_count": null,
   "id": "13baa735",
   "metadata": {},
   "outputs": [],
   "source": [
    "\n",
    "fig, ax = plt.subplots(figsize=(20,10)) \n",
    "\n",
    "df.plot(x = 'SETTLEMENT DATE', y = 'QUANTITY (FAILS)', ax = ax) \n",
    "df.plot(x = 'SETTLEMENT DATE', y = 'PRICE', ax = ax, secondary_y = True)"
   ]
  }
 ],
 "metadata": {
  "kernelspec": {
   "display_name": "Python 3 (ipykernel)",
   "language": "python",
   "name": "python3"
  },
  "language_info": {
   "codemirror_mode": {
    "name": "ipython",
    "version": 3
   },
   "file_extension": ".py",
   "mimetype": "text/x-python",
   "name": "python",
   "nbconvert_exporter": "python",
   "pygments_lexer": "ipython3",
   "version": "3.10.9"
  }
 },
 "nbformat": 4,
 "nbformat_minor": 5
}
